{
 "cells": [
  {
   "cell_type": "code",
   "execution_count": null,
   "id": "4e7690e9",
   "metadata": {},
   "outputs": [],
   "source": [
    "# Run this codeblock to mount your Google Drive in Google Colab.\n",
    "from google.colab import drive\n",
    "\n",
    "drive.mount(\"/content/drive/\")"
   ]
  },
  {
   "cell_type": "code",
   "execution_count": 2,
   "id": "83c64a25",
   "metadata": {},
   "outputs": [],
   "source": [
    "import subprocess\n",
    "import sys\n",
    "from pathlib import Path\n",
    "\n",
    "ROOT = \"/mnt/d/list/samsung_DS/2025_summer/실습프로젝트\"  # TODO: set your root directory here\n",
    "# ROOT = '/content/drive/MyDrive/cosmos' # example for Google Drive\n",
    "\n",
    "ROOT = Path(ROOT)\n",
    "# Check if the root directory exists\n",
    "if not ROOT.exists():\n",
    "    print(f\"Root directory {ROOT} does not exist. Please check the path.\")"
   ]
  },
  {
   "cell_type": "code",
   "execution_count": 3,
   "id": "17ea5dea",
   "metadata": {},
   "outputs": [
    {
     "name": "stdout",
     "output_type": "stream",
     "text": [
      "2025-08-11 16:07:29 \u001b[1m[INFO]\u001b[0m ####################################################################################################\n",
      "2025-08-11 16:07:29 \u001b[1m[INFO]\u001b[0m Run dir: /mnt/d/list/samsung_DS/2025_summer/실습프로젝트/logs_denoising/00013_train\n",
      "2025-08-11 16:07:29 \u001b[1m[INFO]\u001b[0m ####################################################################################################\n",
      "2025-08-11 16:07:29 \u001b[1m[INFO]\u001b[0m General Config\n",
      "2025-08-11 16:07:29 \u001b[1m[INFO]\u001b[0m train_dataset:['/mnt/d/list/samsung_DS/2025_summer/실습프로젝트/dataset/train']\n",
      "2025-08-11 16:07:29 \u001b[1m[INFO]\u001b[0m valid_dataset:['/mnt/d/list/samsung_DS/2025_summer/실습프로젝트/dataset/val']\n",
      "2025-08-11 16:07:29 \u001b[1m[INFO]\u001b[0m test_dataset:['/mnt/d/list/samsung_DS/2025_summer/실습프로젝트/dataset/test']\n",
      "2025-08-11 16:07:29 \u001b[1m[INFO]\u001b[0m data_type:*.npy\n",
      "2025-08-11 16:07:29 \u001b[1m[INFO]\u001b[0m log_lv:INFO\n",
      "2025-08-11 16:07:29 \u001b[1m[INFO]\u001b[0m run_dir:/mnt/d/list/samsung_DS/2025_summer/실습프로젝트/logs_denoising\n",
      "2025-08-11 16:07:29 \u001b[1m[INFO]\u001b[0m init_time:1754896049.1610165\n",
      "2025-08-11 16:07:29 \u001b[1m[INFO]\u001b[0m model_type:dncnn\n",
      "2025-08-11 16:07:29 \u001b[1m[INFO]\u001b[0m optimizer:adam\n",
      "2025-08-11 16:07:29 \u001b[1m[INFO]\u001b[0m loss_model:l2\n",
      "2025-08-11 16:07:29 \u001b[1m[INFO]\u001b[0m lr:0.0001\n",
      "2025-08-11 16:07:29 \u001b[1m[INFO]\u001b[0m lr_decay:0.88\n",
      "2025-08-11 16:07:29 \u001b[1m[INFO]\u001b[0m lr_tol:1\n",
      "2025-08-11 16:07:29 \u001b[1m[INFO]\u001b[0m gpu:0\n",
      "2025-08-11 16:07:29 \u001b[1m[INFO]\u001b[0m train_batch:2\n",
      "2025-08-11 16:07:29 \u001b[1m[INFO]\u001b[0m valid_batch:8\n",
      "2025-08-11 16:07:29 \u001b[1m[INFO]\u001b[0m train_epoch:100\n",
      "2025-08-11 16:07:29 \u001b[1m[INFO]\u001b[0m logging_density:4\n",
      "2025-08-11 16:07:29 \u001b[1m[INFO]\u001b[0m valid_interval:2\n",
      "2025-08-11 16:07:29 \u001b[1m[INFO]\u001b[0m valid_tol:2\n",
      "2025-08-11 16:07:29 \u001b[1m[INFO]\u001b[0m num_workers:4\n",
      "2025-08-11 16:07:29 \u001b[1m[INFO]\u001b[0m save_val:True\n",
      "2025-08-11 16:07:29 \u001b[1m[INFO]\u001b[0m parallel:True\n",
      "2025-08-11 16:07:29 \u001b[1m[INFO]\u001b[0m device:cuda\n",
      "2025-08-11 16:07:29 \u001b[1m[INFO]\u001b[0m save_max_idx:500\n",
      "2025-08-11 16:07:29 \u001b[1m[INFO]\u001b[0m noise_type:gaussian\n",
      "2025-08-11 16:07:29 \u001b[1m[INFO]\u001b[0m noise_sigma:0.05\n",
      "2025-08-11 16:07:29 \u001b[1m[INFO]\u001b[0m tag:\n",
      "2025-08-11 16:07:29 \u001b[1m[INFO]\u001b[0m ####################################################################################################\n",
      "2025-08-11 16:07:29 \u001b[1m[INFO]\u001b[0m Model Config\n",
      "2025-08-11 16:07:29 \u001b[1m[INFO]\u001b[0m channels:1\n",
      "2025-08-11 16:07:29 \u001b[1m[INFO]\u001b[0m num_of_layers:17\n",
      "2025-08-11 16:07:29 \u001b[1m[INFO]\u001b[0m kernel_size:3\n",
      "2025-08-11 16:07:29 \u001b[1m[INFO]\u001b[0m padding:1\n",
      "2025-08-11 16:07:29 \u001b[1m[INFO]\u001b[0m features:64\n",
      "2025-08-11 16:07:29 \u001b[1m[INFO]\u001b[0m ####################################################################################################\n",
      "2025-08-11 16:07:29 \u001b[1m[INFO]\u001b[0m Train dataset length : 7268\n",
      "2025-08-11 16:07:29 \u001b[1m[INFO]\u001b[0m Valid dataset length : 100\n",
      "2025-08-11 16:07:29 \u001b[1m[INFO]\u001b[0m Test dataset length : 100\n",
      "2025-08-11 16:07:31 \u001b[1m[INFO]\u001b[0m ####################################################################################################\n",
      "2025-08-11 16:07:31 \u001b[1m[INFO]\u001b[0m Train start\n",
      "2025-08-11 16:07:31 \u001b[1m[INFO]\u001b[0m Epoch: 0\n",
      "2025-08-11 16:07:31 \u001b[1m[INFO]\u001b[0m Learning rate: 1.000e-04\n"
     ]
    },
    {
     "name": "stderr",
     "output_type": "stream",
     "text": [
      "Traceback (most recent call last):\n",
      "  File \"/mnt/d/list/samsung_DS/2025_summer/실습프로젝트/code_denoising/train.py\", line 243, in <module>\n",
      "    trainer()\n",
      "  File \"/mnt/d/list/samsung_DS/2025_summer/실습프로젝트/code_denoising/train.py\", line 82, in __call__\n",
      "    self._train()\n",
      "  File \"/mnt/d/list/samsung_DS/2025_summer/실습프로젝트/code_denoising/common/wrapper.py\", line 44, in sync_wrapper\n",
      "    return func(*args, **kwargs)\n",
      "           ^^^^^^^^^^^^^^^^^^^^^\n",
      "  File \"/mnt/d/list/samsung_DS/2025_summer/실습프로젝트/code_denoising/train.py\", line 180, in _train\n",
      "    train_epoch(\n",
      "  File \"/mnt/d/list/samsung_DS/2025_summer/실습프로젝트/code_denoising/core_funcs.py\", line 219, in train_epoch\n",
      "    img_cnt_minibatch = train_epoch_dncnn(\n",
      "                        ^^^^^^^^^^^^^^^^^^\n",
      "  File \"/mnt/d/list/samsung_DS/2025_summer/실습프로젝트/code_denoising/core_funcs.py\", line 198, in train_epoch_dncnn\n",
      "    train_state.add(\"loss\", loss)\n",
      "  File \"/mnt/d/list/samsung_DS/2025_summer/실습프로젝트/code_denoising/components/metriccontroller.py\", line 33, in add\n",
      "    value = value.cpu().detach().numpy()\n",
      "            ^^^^^^^^^^^\n",
      "KeyboardInterrupt\n"
     ]
    },
    {
     "ename": "KeyboardInterrupt",
     "evalue": "",
     "output_type": "error",
     "traceback": [
      "\u001b[31m---------------------------------------------------------------------------\u001b[39m",
      "\u001b[31mKeyboardInterrupt\u001b[39m                         Traceback (most recent call last)",
      "\u001b[36mCell\u001b[39m\u001b[36m \u001b[39m\u001b[32mIn[3]\u001b[39m\u001b[32m, line 1\u001b[39m\n\u001b[32m----> \u001b[39m\u001b[32m1\u001b[39m \u001b[43msubprocess\u001b[49m\u001b[43m.\u001b[49m\u001b[43mrun\u001b[49m\u001b[43m(\u001b[49m\n\u001b[32m      2\u001b[39m \u001b[43m    \u001b[49m\u001b[33;43mf\u001b[39;49m\u001b[33;43m\"\u001b[39;49m\u001b[33;43mexport DATA_ROOT=\u001b[39;49m\u001b[38;5;132;43;01m{\u001b[39;49;00m\u001b[43mROOT\u001b[49m\u001b[38;5;250;43m \u001b[39;49m\u001b[43m/\u001b[49m\u001b[38;5;250;43m \u001b[39;49m\u001b[33;43m'\u001b[39;49m\u001b[33;43mdataset\u001b[39;49m\u001b[33;43m'\u001b[39;49m\u001b[38;5;132;43;01m}\u001b[39;49;00m\u001b[33;43m && \u001b[39;49m\u001b[33;43m\"\u001b[39;49m\n\u001b[32m      3\u001b[39m \u001b[43m    \u001b[49m\u001b[33;43mf\u001b[39;49m\u001b[33;43m\"\u001b[39;49m\u001b[33;43mexport RUN_DIR=\u001b[39;49m\u001b[38;5;132;43;01m{\u001b[39;49;00m\u001b[43mROOT\u001b[49m\u001b[38;5;250;43m \u001b[39;49m\u001b[43m/\u001b[49m\u001b[38;5;250;43m \u001b[39;49m\u001b[33;43m'\u001b[39;49m\u001b[33;43mlogs_denoising\u001b[39;49m\u001b[33;43m'\u001b[39;49m\u001b[38;5;132;43;01m}\u001b[39;49;00m\u001b[33;43m && \u001b[39;49m\u001b[33;43m\"\u001b[39;49m\n\u001b[32m      4\u001b[39m \u001b[43m    \u001b[49m\u001b[33;43mf\u001b[39;49m\u001b[33;43m\"\u001b[39;49m\u001b[33;43mpython \u001b[39;49m\u001b[38;5;132;43;01m{\u001b[39;49;00m\u001b[43mROOT\u001b[49m\u001b[38;5;132;43;01m}\u001b[39;49;00m\u001b[33;43m/code_denoising/train.py --gpu 0 --model_type dncnn\u001b[39;49m\u001b[33;43m\"\u001b[39;49m\u001b[43m,\u001b[49m\n\u001b[32m      5\u001b[39m \u001b[43m    \u001b[49m\u001b[43mshell\u001b[49m\u001b[43m=\u001b[49m\u001b[38;5;28;43;01mTrue\u001b[39;49;00m\u001b[43m,\u001b[49m\n\u001b[32m      6\u001b[39m \u001b[43m)\u001b[49m\n",
      "\u001b[36mFile \u001b[39m\u001b[32m~/miniconda3/envs/python12/lib/python3.12/subprocess.py:550\u001b[39m, in \u001b[36mrun\u001b[39m\u001b[34m(input, capture_output, timeout, check, *popenargs, **kwargs)\u001b[39m\n\u001b[32m    548\u001b[39m \u001b[38;5;28;01mwith\u001b[39;00m Popen(*popenargs, **kwargs) \u001b[38;5;28;01mas\u001b[39;00m process:\n\u001b[32m    549\u001b[39m     \u001b[38;5;28;01mtry\u001b[39;00m:\n\u001b[32m--> \u001b[39m\u001b[32m550\u001b[39m         stdout, stderr = \u001b[43mprocess\u001b[49m\u001b[43m.\u001b[49m\u001b[43mcommunicate\u001b[49m\u001b[43m(\u001b[49m\u001b[38;5;28;43minput\u001b[39;49m\u001b[43m,\u001b[49m\u001b[43m \u001b[49m\u001b[43mtimeout\u001b[49m\u001b[43m=\u001b[49m\u001b[43mtimeout\u001b[49m\u001b[43m)\u001b[49m\n\u001b[32m    551\u001b[39m     \u001b[38;5;28;01mexcept\u001b[39;00m TimeoutExpired \u001b[38;5;28;01mas\u001b[39;00m exc:\n\u001b[32m    552\u001b[39m         process.kill()\n",
      "\u001b[36mFile \u001b[39m\u001b[32m~/miniconda3/envs/python12/lib/python3.12/subprocess.py:1201\u001b[39m, in \u001b[36mPopen.communicate\u001b[39m\u001b[34m(self, input, timeout)\u001b[39m\n\u001b[32m   1199\u001b[39m         stderr = \u001b[38;5;28mself\u001b[39m.stderr.read()\n\u001b[32m   1200\u001b[39m         \u001b[38;5;28mself\u001b[39m.stderr.close()\n\u001b[32m-> \u001b[39m\u001b[32m1201\u001b[39m     \u001b[38;5;28;43mself\u001b[39;49m\u001b[43m.\u001b[49m\u001b[43mwait\u001b[49m\u001b[43m(\u001b[49m\u001b[43m)\u001b[49m\n\u001b[32m   1202\u001b[39m \u001b[38;5;28;01melse\u001b[39;00m:\n\u001b[32m   1203\u001b[39m     \u001b[38;5;28;01mif\u001b[39;00m timeout \u001b[38;5;129;01mis\u001b[39;00m \u001b[38;5;129;01mnot\u001b[39;00m \u001b[38;5;28;01mNone\u001b[39;00m:\n",
      "\u001b[36mFile \u001b[39m\u001b[32m~/miniconda3/envs/python12/lib/python3.12/subprocess.py:1264\u001b[39m, in \u001b[36mPopen.wait\u001b[39m\u001b[34m(self, timeout)\u001b[39m\n\u001b[32m   1262\u001b[39m     endtime = _time() + timeout\n\u001b[32m   1263\u001b[39m \u001b[38;5;28;01mtry\u001b[39;00m:\n\u001b[32m-> \u001b[39m\u001b[32m1264\u001b[39m     \u001b[38;5;28;01mreturn\u001b[39;00m \u001b[38;5;28;43mself\u001b[39;49m\u001b[43m.\u001b[49m\u001b[43m_wait\u001b[49m\u001b[43m(\u001b[49m\u001b[43mtimeout\u001b[49m\u001b[43m=\u001b[49m\u001b[43mtimeout\u001b[49m\u001b[43m)\u001b[49m\n\u001b[32m   1265\u001b[39m \u001b[38;5;28;01mexcept\u001b[39;00m \u001b[38;5;167;01mKeyboardInterrupt\u001b[39;00m:\n\u001b[32m   1266\u001b[39m     \u001b[38;5;66;03m# https://bugs.python.org/issue25942\u001b[39;00m\n\u001b[32m   1267\u001b[39m     \u001b[38;5;66;03m# The first keyboard interrupt waits briefly for the child to\u001b[39;00m\n\u001b[32m   1268\u001b[39m     \u001b[38;5;66;03m# exit under the common assumption that it also received the ^C\u001b[39;00m\n\u001b[32m   1269\u001b[39m     \u001b[38;5;66;03m# generated SIGINT and will exit rapidly.\u001b[39;00m\n\u001b[32m   1270\u001b[39m     \u001b[38;5;28;01mif\u001b[39;00m timeout \u001b[38;5;129;01mis\u001b[39;00m \u001b[38;5;129;01mnot\u001b[39;00m \u001b[38;5;28;01mNone\u001b[39;00m:\n",
      "\u001b[36mFile \u001b[39m\u001b[32m~/miniconda3/envs/python12/lib/python3.12/subprocess.py:2053\u001b[39m, in \u001b[36mPopen._wait\u001b[39m\u001b[34m(self, timeout)\u001b[39m\n\u001b[32m   2051\u001b[39m \u001b[38;5;28;01mif\u001b[39;00m \u001b[38;5;28mself\u001b[39m.returncode \u001b[38;5;129;01mis\u001b[39;00m \u001b[38;5;129;01mnot\u001b[39;00m \u001b[38;5;28;01mNone\u001b[39;00m:\n\u001b[32m   2052\u001b[39m     \u001b[38;5;28;01mbreak\u001b[39;00m  \u001b[38;5;66;03m# Another thread waited.\u001b[39;00m\n\u001b[32m-> \u001b[39m\u001b[32m2053\u001b[39m (pid, sts) = \u001b[38;5;28;43mself\u001b[39;49m\u001b[43m.\u001b[49m\u001b[43m_try_wait\u001b[49m\u001b[43m(\u001b[49m\u001b[32;43m0\u001b[39;49m\u001b[43m)\u001b[49m\n\u001b[32m   2054\u001b[39m \u001b[38;5;66;03m# Check the pid and loop as waitpid has been known to\u001b[39;00m\n\u001b[32m   2055\u001b[39m \u001b[38;5;66;03m# return 0 even without WNOHANG in odd situations.\u001b[39;00m\n\u001b[32m   2056\u001b[39m \u001b[38;5;66;03m# http://bugs.python.org/issue14396.\u001b[39;00m\n\u001b[32m   2057\u001b[39m \u001b[38;5;28;01mif\u001b[39;00m pid == \u001b[38;5;28mself\u001b[39m.pid:\n",
      "\u001b[36mFile \u001b[39m\u001b[32m~/miniconda3/envs/python12/lib/python3.12/subprocess.py:2011\u001b[39m, in \u001b[36mPopen._try_wait\u001b[39m\u001b[34m(self, wait_flags)\u001b[39m\n\u001b[32m   2009\u001b[39m \u001b[38;5;250m\u001b[39m\u001b[33;03m\"\"\"All callers to this function MUST hold self._waitpid_lock.\"\"\"\u001b[39;00m\n\u001b[32m   2010\u001b[39m \u001b[38;5;28;01mtry\u001b[39;00m:\n\u001b[32m-> \u001b[39m\u001b[32m2011\u001b[39m     (pid, sts) = \u001b[43mos\u001b[49m\u001b[43m.\u001b[49m\u001b[43mwaitpid\u001b[49m\u001b[43m(\u001b[49m\u001b[38;5;28;43mself\u001b[39;49m\u001b[43m.\u001b[49m\u001b[43mpid\u001b[49m\u001b[43m,\u001b[49m\u001b[43m \u001b[49m\u001b[43mwait_flags\u001b[49m\u001b[43m)\u001b[49m\n\u001b[32m   2012\u001b[39m \u001b[38;5;28;01mexcept\u001b[39;00m \u001b[38;5;167;01mChildProcessError\u001b[39;00m:\n\u001b[32m   2013\u001b[39m     \u001b[38;5;66;03m# This happens if SIGCLD is set to be ignored or waiting\u001b[39;00m\n\u001b[32m   2014\u001b[39m     \u001b[38;5;66;03m# for child processes has otherwise been disabled for our\u001b[39;00m\n\u001b[32m   2015\u001b[39m     \u001b[38;5;66;03m# process.  This child is dead, we can't get the status.\u001b[39;00m\n\u001b[32m   2016\u001b[39m     pid = \u001b[38;5;28mself\u001b[39m.pid\n",
      "\u001b[31mKeyboardInterrupt\u001b[39m: "
     ]
    }
   ],
   "source": [
    "subprocess.run(\n",
    "    f\"export DATA_ROOT={ROOT / 'dataset'} && \"\n",
    "    f\"export RUN_DIR={ROOT / 'logs_denoising'} && \"\n",
    "    f\"python {ROOT}/code_denoising/train.py --gpu 0 --model_type dncnn\",\n",
    "    shell=True,\n",
    ")"
   ]
  }
 ],
 "metadata": {
  "kernelspec": {
   "display_name": "python12",
   "language": "python",
   "name": "python3"
  },
  "language_info": {
   "codemirror_mode": {
    "name": "ipython",
    "version": 3
   },
   "file_extension": ".py",
   "mimetype": "text/x-python",
   "name": "python",
   "nbconvert_exporter": "python",
   "pygments_lexer": "ipython3",
   "version": "3.12.10"
  }
 },
 "nbformat": 4,
 "nbformat_minor": 5
}
