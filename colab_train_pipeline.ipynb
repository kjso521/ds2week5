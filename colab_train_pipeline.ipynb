{
  "cells": [
    {
      "cell_type": "markdown",
      "metadata": {},
      "source": [
        "# Denoising/Deconvolution 통합 학습 파이프라인\n",
        "\n",
        "이 노트북은 Step-by-Step 방식과 End-to-End 방식의 모델을 모두 학습시키기 위한 통합 파이프라인입니다.\n",
        "\n",
        "**실행 순서:**\n",
        "1. Google Drive 마운트\n",
        "2. 프로젝트 폴더로 이동 및 필요 라이브러리 설치\n",
        "3. Denoising 모델 학습 (Step 1)\n",
        "4. Deconvolution 모델 학습 (Step 2)\n",
        "5. End-to-End 모델 학습\n"
      ]
    },
    {
      "cell_type": "code",
      "execution_count": null,
      "metadata": {},
      "outputs": [],
      "source": [
        "from google.colab import drive\n",
        "drive.mount('/content/drive')\n"
      ]
    },
    {
      "cell_type": "code",
      "execution_count": null,
      "metadata": {},
      "outputs": [],
      "source": [
        "# ---------------------------\n",
        "# [수정 필요] 프로젝트 경로를 자신의 Google Drive 경로에 맞게 수정해주세요.\n",
        "PROJECT_PATH = \"/content/drive/MyDrive/Colab Notebooks/week5\" # 예시 경로\n",
        "# ---------------------------\n",
        "\n",
        "import os\n",
        "os.chdir(PROJECT_PATH)\n",
        "!ls # 현재 경로 파일 목록 확인\n"
      ]
    },
    {
      "cell_type": "code",
      "execution_count": null,
      "metadata": {},
      "outputs": [],
      "source": [
        "%pip install loguru\n"
      ]
    },
    {
      "cell_type": "code",
      "execution_count": null,
      "metadata": {},
      "outputs": [],
      "source": [
        "import os\n",
        "\n",
        "# 학습 데이터셋 폴더 경로 정의\n",
        "test_1_noise_path = \"dataset/test_1_noise\"\n",
        "\n",
        "# 학습 데이터셋이 이미 생성되었는지 확인\n",
        "if os.path.exists(test_1_noise_path) and os.listdir(test_1_noise_path):\n",
        "    print(f\"'{test_1_noise_path}' 폴더가 이미 존재하며 비어있지 않습니다.\")\n",
        "    print(\"데이터셋 생성을 건너뜁니다.\")\n",
        "else:\n",
        "    print(\"학습 데이터셋을 생성합니다. 이 작업은 다소 시간이 걸릴 수 있습니다...\")\n",
        "    !python create_custom_dataset.py\n",
        "    print(\"데이터셋 생성이 완료되었습니다.\")\n"
      ]
    },
    {
      "cell_type": "markdown",
      "metadata": {},
      "source": [
        "---\n",
        "## Plan A: Step-by-Step 모델 학습\n",
        "### 1. Denoising 모델 학습\n"
      ]
    },
    {
      "cell_type": "code",
      "execution_count": null,
      "metadata": {},
      "outputs": [],
      "source": [
        "!python code_denoising/train.py --model_type dncnn --gpu 0 --train_dataset_name \"test_1_noise\" --run_dir_name \"logs_denoising\"\n"
      ]
    },
    {
      "cell_type": "markdown",
      "metadata": {},
      "source": [
        "### 2. Deconvolution 모델 학습\n"
      ]
    },
    {
      "cell_type": "code",
      "execution_count": null,
      "metadata": {},
      "outputs": [],
      "source": [
        "!python code_denoising/train.py --model_type dncnn --gpu 0 --train_dataset_name \"test_1_conv\" --run_dir_name \"logs_deconvolution\"\n"
      ]
    },
    {
      "cell_type": "markdown",
      "metadata": {},
      "source": [
        "---\n",
        "## Plan B: End-to-End 모델 학습\n"
      ]
    },
    {
      "cell_type": "code",
      "execution_count": null,
      "metadata": {},
      "outputs": [],
      "source": [
        "!python code_denoising/train.py --model_type dncnn --gpu 0 --train_dataset_name \"test_1\" --run_dir_name \"logs_end_to_end\"\n"
      ]
    }
  ],
  "metadata": {
    "language_info": {
      "name": "python"
    }
  },
  "nbformat": 4,
  "nbformat_minor": 2
}
