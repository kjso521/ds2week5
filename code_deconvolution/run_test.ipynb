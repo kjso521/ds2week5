{
 "cells": [
  {
   "cell_type": "code",
   "execution_count": null,
   "id": "e001c7b8",
   "metadata": {},
   "outputs": [],
   "source": [
    "# Run this codeblock to mount your Google Drive in Google Colab.\n",
    "from google.colab import drive\n",
    "\n",
    "drive.mount(\"/content/drive/\")"
   ]
  },
  {
   "cell_type": "code",
   "execution_count": null,
   "id": "f4f57e4b",
   "metadata": {},
   "outputs": [],
   "source": [
    "# Install dependency\n",
    "!pip install loguru"
   ]
  },
  {
   "cell_type": "code",
   "execution_count": null,
   "id": "1b091e6b",
   "metadata": {},
   "outputs": [],
   "source": [
    "!gdown https://drive.google.com/uc?id=15UbD_s3yqtCSGTbzgDRrnO66RBOKvq2F"
   ]
  },
  {
   "cell_type": "code",
   "execution_count": null,
   "id": "492663cf",
   "metadata": {},
   "outputs": [],
   "source": [
    "!unzip /content/dataset_deconv.zip"
   ]
  },
  {
   "cell_type": "code",
   "execution_count": null,
   "id": "83c64a25",
   "metadata": {},
   "outputs": [],
   "source": [
    "import subprocess\n",
    "from pathlib import Path\n",
    "\n",
    "import matplotlib.pyplot as plt\n",
    "import numpy as np\n",
    "from scipy.io import loadmat\n",
    "\n",
    "ROOT = \"/mnt/d/실습프로젝트/\"  # TODO: set your root directory here\n",
    "# ROOT = '/content/drive/MyDrive/DS2_Project' # example for Google Drive\n",
    "\n",
    "ROOT = Path(ROOT)\n",
    "# Check if the root directory exists\n",
    "if not ROOT.exists():\n",
    "    print(f\"Root directory {ROOT} does not exist. Please check the path.\")"
   ]
  },
  {
   "cell_type": "code",
   "execution_count": null,
   "id": "17ea5dea",
   "metadata": {},
   "outputs": [],
   "source": [
    "subprocess.run(\n",
    "    f\"export DATA_ROOT={ROOT / 'dataset'} && \"\n",
    "    f\"export RUN_DIR={ROOT / 'logs_deconvolution'} && \"\n",
    "    f\"export CHECKPOINT_DIR={ROOT / 'code_deconvolution/checkpoint_best.ckpt'} && \"\n",
    "    f\"python {ROOT}/code_deconvolution/test.py --gpu 0 --model_type unet\",\n",
    "    shell=True,\n",
    ")"
   ]
  },
  {
   "cell_type": "code",
   "execution_count": null,
   "id": "918e02a2",
   "metadata": {},
   "outputs": [],
   "source": [
    "run_idx = 0\n",
    "log_root = ROOT / f\"logs_deconvolution/{run_idx:05d}_test/test\"\n",
    "res_files = sorted(log_root.glob(\"*.mat\"))\n",
    "print(len(res_files))"
   ]
  },
  {
   "cell_type": "code",
   "execution_count": null,
   "id": "5ad91b9c",
   "metadata": {},
   "outputs": [],
   "source": [
    "idx = 0"
   ]
  },
  {
   "cell_type": "code",
   "execution_count": null,
   "id": "c774244a",
   "metadata": {},
   "outputs": [],
   "source": [
    "idx += 1\n",
    "print(idx)\n",
    "\n",
    "res_mat = loadmat(res_files[idx])\n",
    "measure = res_mat[\"measure\"].squeeze()\n",
    "output = res_mat[\"output\"].squeeze()\n",
    "label = res_mat[\"label\"].squeeze()\n",
    "\n",
    "x1, x2, y1, y2 = 20, -20, 20, -20\n",
    "\n",
    "vmax = np.percentile(label, 98) * 1.2\n",
    "vmin = 0\n",
    "plt.figure(figsize=(10, 10))\n",
    "plt.subplot(2, 2, 1)\n",
    "plt.imshow(\n",
    "    measure[x1:x2, y1:y2],\n",
    "    cmap=\"gray\",\n",
    ")\n",
    "plt.title(\"Measure\")\n",
    "plt.axis(\"off\")\n",
    "plt.subplot(2, 2, 2)\n",
    "plt.imshow(output[x1:x2, y1:y2], cmap=\"gray\", vmin=vmin, vmax=vmax)\n",
    "plt.title(\"Output\")\n",
    "plt.axis(\"off\")\n",
    "plt.subplot(2, 2, 3)\n",
    "plt.imshow(label[x1:x2, y1:y2], cmap=\"gray\", vmin=vmin, vmax=vmax)\n",
    "plt.title(\"Label\")\n",
    "plt.axis(\"off\")\n",
    "plt.subplot(2, 2, 4)\n",
    "plt.imshow(\n",
    "    np.abs(output[x1:x2, y1:y2] - label[x1:x2, y1:y2]), cmap=\"gray\", vmin=0, vmax=vmax\n",
    ")\n",
    "plt.title(\"Error\")\n",
    "plt.axis(\"off\")\n",
    "plt.tight_layout()\n",
    "plt.show()"
   ]
  }
 ],
 "metadata": {
  "kernelspec": {
   "display_name": "samsungds",
   "language": "python",
   "name": "python3"
  },
  "language_info": {
   "codemirror_mode": {
    "name": "ipython",
    "version": 3
   },
   "file_extension": ".py",
   "mimetype": "text/x-python",
   "name": "python",
   "nbconvert_exporter": "python",
   "pygments_lexer": "ipython3",
   "version": "3.11.13"
  }
 },
 "nbformat": 4,
 "nbformat_minor": 5
}
