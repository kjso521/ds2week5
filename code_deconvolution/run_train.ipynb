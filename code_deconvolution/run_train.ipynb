{
 "cells": [
  {
   "cell_type": "code",
   "execution_count": null,
   "id": "dffa980a",
   "metadata": {},
   "outputs": [],
   "source": [
    "# Run this codeblock to mount your Google Drive in Google Colab.\n",
    "from google.colab import drive\n",
    "\n",
    "drive.mount(\"/content/drive/\")"
   ]
  },
  {
   "cell_type": "code",
   "execution_count": null,
   "id": "db8cb7ce",
   "metadata": {},
   "outputs": [],
   "source": [
    "# Install dependency\n",
    "!pip install loguru"
   ]
  },
  {
   "cell_type": "code",
   "execution_count": null,
   "id": "1dd18c80",
   "metadata": {},
   "outputs": [],
   "source": [
    "!gdown https://drive.google.com/uc?id=15UbD_s3yqtCSGTbzgDRrnO66RBOKvq2F"
   ]
  },
  {
   "cell_type": "code",
   "execution_count": null,
   "id": "3a9dc40e",
   "metadata": {},
   "outputs": [],
   "source": [
    "!unzip /content/dataset_deconv.zip"
   ]
  },
  {
   "cell_type": "code",
   "execution_count": null,
   "id": "83c64a25",
   "metadata": {},
   "outputs": [],
   "source": [
    "import subprocess\n",
    "import sys\n",
    "from pathlib import Path\n",
    "\n",
    "ROOT = \"/mnt/d/실습프로젝트/\"  # TODO: set your root directory here\n",
    "# ROOT = '/content/drive/MyDrive/DS2_Project' # example for Google Drive\n",
    "\n",
    "ROOT = Path(ROOT)\n",
    "# Check if the root directory exists\n",
    "if not ROOT.exists():\n",
    "    print(f\"Root directory {ROOT} does not exist. Please check the path.\")"
   ]
  },
  {
   "cell_type": "code",
   "execution_count": null,
   "id": "17ea5dea",
   "metadata": {},
   "outputs": [],
   "source": [
    "subprocess.run(\n",
    "    f\"export DATA_ROOT={ROOT / 'dataset'} && \"\n",
    "    f\"export RUN_DIR={ROOT / 'logs_deconvolution'} && \"\n",
    "    f\"python {ROOT}/code_deconvolution/train.py --gpu 0 --model_type unet\",\n",
    "    shell=True,\n",
    ")"
   ]
  }
 ],
 "metadata": {
  "kernelspec": {
   "display_name": "samsungds",
   "language": "python",
   "name": "python3"
  },
  "language_info": {
   "codemirror_mode": {
    "name": "ipython",
    "version": 3
   },
   "file_extension": ".py",
   "mimetype": "text/x-python",
   "name": "python",
   "nbconvert_exporter": "python",
   "pygments_lexer": "ipython3",
   "version": "3.11.13"
  }
 },
 "nbformat": 4,
 "nbformat_minor": 5
}
