{
  "cells": [
    {
      "cell_type": "markdown",
      "metadata": {},
      "source": [
        "# 🏆 [Step-by-Step] 모델 성능 평가 파이프라인\n",
        "\n",
        "이 노트북은 학습 중에 생성된 **Denoising 모델**과 **Deconvolution 모델** 체크포인트(`.ckpt`) 파일 쌍의 최종 성능을 평가하기 위한 전용 파이프라인입니다.\n",
        "\n",
        "**실행 방법:**\n",
        "1. **\"1. 환경 설정\"** 셀을 실행하여 Google Drive를 마운트하고 프로젝트 경로를 설정합니다. (최초 1회)\n",
        "2. **\"2. 평가 실행\"** 셀에서 평가하고 싶은 **`DENOISING_CKPT_PATH`**와 **`DECONV_CKPT_PATH`** 변수 값을 모두 수정합니다.\n",
        "3. **\"2. 평가 실행\"** 셀을 실행하면, 아래 과정이 자동으로 진행됩니다.\n",
        "    - `create_evaluation_results_sbs.py`가 실행되어 두 모델을 순차적으로 통과시킨 최종 복원 이미지를 `result` 폴더에 `.npy` 파일로 저장합니다.\n",
        "    - `evaluate.ipynb`의 핵심 로직이 실행되어 `result` 폴더와 `label` 폴더를 비교하고 최종 PSNR/SSIM 점수를 출력합니다.\n"
      ]
    },
    {
      "cell_type": "markdown",
      "metadata": {},
      "source": [
        "### 1. 환경 설정\n"
      ]
    },
    {
      "cell_type": "code",
      "execution_count": null,
      "metadata": {},
      "outputs": [],
      "source": [
        "# @title Google Drive 마운트 및 Git 동기화\n",
        "import os\n",
        "import sys\n",
        "from google.colab import drive\n",
        "\n",
        "# Google Drive 마운트\n",
        "drive.mount('/content/drive', force_remount=True)\n",
        "\n",
        "# 💥 사용자 설정: 자신의 Google Drive 프로젝트 경로에 맞게 수정해주세요.\n",
        "PROJECT_ROOT = \"/content/drive/MyDrive/Data Scientist/Project/Week5/week5\"\n",
        "\n",
        "# 작업 디렉토리 변경\n",
        "os.chdir(PROJECT_ROOT)\n",
        "print(f\"Current working directory: {os.getcwd()}\")\n",
        "\n",
        "# --- Git 동기화 ---\n",
        "print(\"\\nSyncing with GitHub Repository...\")\n",
        "# 노트북 파일의 로컬 변경사항을 폐기하여 충돌 방지\n",
        "!git checkout -- run_evaluation.ipynb\n",
        "# 원격 저장소의 최신 코드를 받아옴\n",
        "!git pull origin main\n",
        "print(\"--- Git sync complete ---\\n\")\n",
        "\n",
        "\n",
        "# 경로 추가 및 라이브러리 설치\n",
        "sys.path.append(PROJECT_ROOT)\n",
        "print(\"Installing required libraries...\")\n",
        "%pip install loguru tqdm --quiet\n",
        "print(\"Libraries installed.\")\n",
        "\n",
        "print(\"Environment setup complete.\")\n"
      ]
    },
    {
      "cell_type": "markdown",
      "metadata": {},
      "source": [
        "### 2. 평가 실행\n"
      ]
    },
    {
      "cell_type": "code",
      "execution_count": null,
      "metadata": {},
      "outputs": [],
      "source": [
        "# @title 체크포인트 경로 지정 및 최종 평가 실행\n",
        "import shutil\n",
        "from pathlib import Path\n",
        "import sys\n",
        "import os\n",
        "\n",
        "# --- ⚙️ 1. 사용자 설정: 평가할 체크포인트 경로를 모두 입력하세요. ---\n",
        "# 예시: \"logs_sbs_denoising_dncnn/00000_train/checkpoints/checkpoint_best.ckpt\"\n",
        "DENOISING_CKPT_PATH = \"\" #@param {type:\"string\"}\n",
        "# 예시: \"logs_sbs_deconv_unet/00001_train/checkpoints/checkpoint_best.ckpt\"\n",
        "DECONV_CKPT_PATH = \"\" #@param {type:\"string\"}\n",
        "# -------------------------------------------------------------------\n",
        "\n",
        "# --- 자동으로 경로 및 폴더 설정 ---\n",
        "RESULT_FOLDER = \"result\"\n",
        "\n",
        "# 이전 결과가 있다면 삭제\n",
        "if Path(RESULT_FOLDER).exists():\n",
        "    print(f\"Removing old '{RESULT_FOLDER}' directory...\")\n",
        "    shutil.rmtree(RESULT_FOLDER)\n",
        "\n",
        "# --- 1단계: 결과물(.npy 파일) 생성 ---\n",
        "print(\"\\n[Phase 1/2] Creating result files from checkpoint...\")\n",
        "\n",
        "if DENOISING_CKPT_PATH and DECONV_CKPT_PATH:\n",
        "    print(\"Running in Step-by-Step mode...\")\n",
        "    !python \"create_evaluation_results_sbs.py\" \\\n",
        "        --denoising_ckpt_path \"{DENOISING_CKPT_PATH}\" \\\n",
        "        --deconv_ckpt_path \"{DECONV_CKPT_PATH}\" \\\n",
        "        --result_dir \"{RESULT_FOLDER}\"\n",
        "else:\n",
        "    print(\"🚨 Error: Please provide paths for BOTH denoising and deconvolution checkpoints.\")\n",
        "\n",
        "# --- 2단계: 최종 점수 계산 (결과물이 생성된 경우에만 실행) ---\n",
        "if Path(RESULT_FOLDER).exists() and any(Path(RESULT_FOLDER).iterdir()):\n",
        "    print(\"\\n[Phase 2/2] Calculating final score with evaluate module...\")\n",
        "    \n",
        "    original_dir = os.getcwd()\n",
        "    dataset_dir = os.path.join(original_dir, \"dataset\")\n",
        "\n",
        "    try:\n",
        "        os.chdir(dataset_dir)\n",
        "        !python setup.py build_ext --inplace --quiet\n",
        "\n",
        "        if '_evaluate' in sys.modules:\n",
        "            del sys.modules['_evaluate']\n",
        "        if 'dataset._evaluate' in sys.modules:\n",
        "            del sys.modules['dataset._evaluate']\n",
        "        \n",
        "        import _evaluate\n",
        "        \n",
        "        evaluator = _evaluate.Evaluator(data_root=f\"../{RESULT_FOLDER}\", label_root=\"label\")\n",
        "        evaluator()\n",
        "    except Exception as e:\n",
        "        print(f\"An error occurred during evaluation: {e}\")\n",
        "    finally:\n",
        "        os.chdir(original_dir)\n",
        "        print(f\"\\nReturned to original directory: {os.getcwd()}\")\n",
        "else:\n",
        "    print(\"\\n[Phase 2/2] Skipped. No result files were generated in Phase 1.\")\n",
        "\n"
      ]
    }
  ],
  "metadata": {
    "language_info": {
      "name": "python"
    }
  },
  "nbformat": 4,
  "nbformat_minor": 2
}
