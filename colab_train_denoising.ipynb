{
  "cells": [
    {
      "cell_type": "markdown",
      "metadata": {},
      "source": [
        "# Denoising 모델 학습 노트북\n",
        "\n",
        "**사전 준비:**\n",
        "1. `colab_generate_datasets.ipynb`를 실행하여 `test_1_noise` 등 학습 데이터셋 생성을 완료해주세요.\n",
        "2. `colab_prepare_dataset.ipynb`를 실행하여 `dataset.zip` 파일과 파일 ID를 생성해주세요.\n",
        "\n"
      ]
    },
    {
      "cell_type": "code",
      "execution_count": null,
      "metadata": {},
      "outputs": [],
      "source": [
        "# 1. Google Drive 마운트 및 경로 설정\n",
        "from google.colab import drive\n",
        "drive.mount('/content/drive')\n",
        "\n",
        "# 2. [수정 필요] 프로젝트 경로 설정\n",
        "PROJECT_PATH = \"/content/drive/MyDrive/Colab Notebooks/week5\" # 예시 경로\n",
        "import os\n",
        "os.chdir(PROJECT_PATH)\n",
        "\n",
        "# 3. 필요 라이브러리 설치\n",
        "%pip install loguru tqdm gdown\n",
        "\n"
      ]
    },
    {
      "cell_type": "code",
      "execution_count": null,
      "metadata": {},
      "outputs": [],
      "source": [
        "# 4. (자동화) gdown으로 데이터셋 다운로드 및 압축 해제 (최고 속도)\n",
        "import gdown\n",
        "import zipfile\n",
        "from pathlib import Path\n",
        "\n",
        "# --- 설정 ---\n",
        "# [수정 필요] `colab_prepare_dataset.ipynb` 실행 후 얻은 파일 ID를 여기에 붙여넣어주세요.\n",
        "DATASET_FILE_ID = \"YOUR_DATASET_FILE_ID_HERE\" \n",
        "\n",
        "LOCAL_ZIP_PATH = Path(\"/content/dataset.zip\")\n",
        "LOCAL_DATASET_PATH = Path(\"/content/dataset\")\n",
        "\n",
        "# --- 다운로드 및 압축 해제 ---\n",
        "print(\"gdown을 사용하여 데이터셋 다운로드를 시작합니다...\")\n",
        "gdown.download(id=DATASET_FILE_ID, output=str(LOCAL_ZIP_PATH), quiet=False)\n",
        "print(\"다운로드 완료.\")\n",
        "\n",
        "print(f\"'{LOCAL_ZIP_PATH}' 파일의 압축을 '{LOCAL_DATASET_PATH}'에 해제합니다...\")\n",
        "with zipfile.ZipFile(str(LOCAL_ZIP_PATH), 'r') as zip_ref:\n",
        "    zip_ref.extractall(path=\"/content/\")\n",
        "print(\"압축 해제 완료.\")\n",
        "\n",
        "# --- 환경 변수 설정 ---\n",
        "os.environ['DATA_ROOT'] = str(LOCAL_DATASET_PATH)\n",
        "\n"
      ]
    },
    {
      "cell_type": "code",
      "execution_count": null,
      "metadata": {},
      "outputs": [],
      "source": [
        "# 5. Denoising 모델 학습 실행\n",
        "!python code_denoising/train.py --model_type dncnn --gpu 0 --train_dataset_name \"test_1_noise\" --run_dir_name \"logs_denoising\"\n"
      ]
    },
    {
      "cell_type": "markdown",
      "metadata": {},
      "source": [
        "# Denoising 모델 학습 노트북\n",
        "\n",
        "**사전 준비:** `colab_generate_datasets.ipynb`를 실행하여 학습 데이터셋 생성을 먼저 완료해주세요.\n",
        "\n"
      ]
    },
    {
      "cell_type": "code",
      "execution_count": null,
      "metadata": {},
      "outputs": [],
      "source": [
        "# 1. Google Drive 마운트\n",
        "from google.colab import drive\n",
        "drive.mount('/content/drive')\n",
        "\n",
        "# 2. [수정 필요] 프로젝트 경로 설정\n",
        "PROJECT_PATH = \"/content/drive/MyDrive/Colab Notebooks/week5\" # 예시 경로\n",
        "import os\n",
        "os.chdir(PROJECT_PATH)\n",
        "\n",
        "# 3. 필요 라이브러리 설치\n",
        "%pip install loguru tqdm\n",
        "\n"
      ]
    },
    {
      "cell_type": "code",
      "execution_count": null,
      "metadata": {},
      "outputs": [],
      "source": [
        "# 4. (자동화) 필요한 데이터셋만 Colab 로컬 런타임으로 복사 (파일 단위 진행률 표시)\n",
        "import os\n",
        "import shutil\n",
        "from tqdm.notebook import tqdm\n",
        "from pathlib import Path\n",
        "\n",
        "# --- 설정 ---\n",
        "# 2번 셀에서 정의한 PROJECT_PATH 변수를 사용합니다.\n",
        "DRIVE_DATASET_PATH = Path(PROJECT_PATH) / 'dataset'\n",
        "LOCAL_DATASET_PATH = Path('/content/dataset')\n",
        "REQUIRED_DIRS = ['train', 'val', 'test_1_noise']\n",
        "\n",
        "# --- 디렉토리 준비 ---\n",
        "print(f\"'{LOCAL_DATASET_PATH}'으로 필요한 데이터셋 복사를 준비합니다...\")\n",
        "if LOCAL_DATASET_PATH.exists():\n",
        "    shutil.rmtree(LOCAL_DATASET_PATH)\n",
        "    print(f\"기존 '{LOCAL_DATASET_PATH}' 폴더를 삭제했습니다.\")\n",
        "LOCAL_DATASET_PATH.mkdir(parents=True)\n",
        "\n",
        "# --- 1단계: 전체 파일 개수 세기 ---\n",
        "print(\"전체 파일 목록을 스캔 중입니다... (Google Drive에서 이 작업은 몇 분 정도 소요될 수 있습니다)\")\n",
        "total_files = 0\n",
        "for dir_name in REQUIRED_DIRS:\n",
        "    src_dir = DRIVE_DATASET_PATH / dir_name\n",
        "    if src_dir.exists():\n",
        "        total_files += sum(len(files) for _, _, files in os.walk(src_dir))\n",
        "print(f\"총 {total_files}개의 파일을 복사합니다.\")\n",
        "\n",
        "# --- 2단계: 파일 단위로 복사하며 진행률 표시 ---\n",
        "with tqdm(total=total_files, desc=\"파일 복사 진행률\") as pbar:\n",
        "    for dir_name in REQUIRED_DIRS:\n",
        "        src_dir = DRIVE_DATASET_PATH / dir_name\n",
        "        if not src_dir.exists():\n",
        "            print(f\"경고: 소스 폴더를 찾을 수 없어 건너뜁니다 - {src_dir}\")\n",
        "            continue\n",
        "\n",
        "        for root, dirs, files in os.walk(src_dir):\n",
        "            relative_path = Path(root).relative_to(DRIVE_DATASET_PATH)\n",
        "            local_dir = LOCAL_DATASET_PATH / relative_path\n",
        "            local_dir.mkdir(parents=True, exist_ok=True)\n",
        "            \n",
        "            for filename in files:\n",
        "                src_path = Path(root) / filename\n",
        "                dst_path = local_dir / filename\n",
        "                shutil.copy2(src_path, dst_path)\n",
        "                pbar.update(1)\n",
        "\n",
        "print(\"데이터셋 복사 완료!\")\n",
        "\n",
        "# --- 환경 변수 설정 ---\n",
        "os.environ['DATA_ROOT'] = str(LOCAL_DATASET_PATH)\n",
        "\n"
      ]
    },
    {
      "cell_type": "code",
      "execution_count": null,
      "metadata": {},
      "outputs": [],
      "source": [
        "# 5. Denoising 모델 학습 실행\n",
        "!python code_denoising/train.py --model_type dncnn --gpu 0 --train_dataset_name \"test_1_noise\" --run_dir_name \"logs_denoising\"\n"
      ]
    },
    {
      "cell_type": "markdown",
      "metadata": {},
      "source": [
        "# Denoising 모델 학습 노트북\n",
        "\n",
        "**사전 준비:** `colab_generate_datasets.ipynb`를 실행하여 학습 데이터셋 생성을 먼저 완료해주세요.\n",
        "\n"
      ]
    },
    {
      "cell_type": "code",
      "execution_count": null,
      "metadata": {},
      "outputs": [],
      "source": [
        "# 1. Google Drive 마운트\n",
        "from google.colab import drive\n",
        "drive.mount('/content/drive')\n",
        "\n",
        "# 2. [수정 필요] 프로젝트 경로 설정\n",
        "PROJECT_PATH = \"/content/drive/MyDrive/Colab Notebooks/week5\" # 예시 경로\n",
        "import os\n",
        "os.chdir(PROJECT_PATH)\n",
        "\n",
        "# 3. 필요 라이브러리 설치\n",
        "%pip install loguru tqdm\n",
        "\n"
      ]
    },
    {
      "cell_type": "code",
      "execution_count": null,
      "metadata": {},
      "outputs": [],
      "source": [
        "# 4. (자동화) 필요한 데이터셋만 Colab 로컬 런타임으로 복사 (최적화 버전)\n",
        "import os\n",
        "import shutil\n",
        "from tqdm.notebook import tqdm\n",
        "from pathlib import Path\n",
        "\n",
        "# --- 설정 ---\n",
        "# 2번 셀에서 정의한 PROJECT_PATH 변수를 사용합니다.\n",
        "DRIVE_DATASET_PATH = Path(PROJECT_PATH) / 'dataset'\n",
        "LOCAL_DATASET_PATH = Path('/content/dataset')\n",
        "\n",
        "# 이 노트북에 필요한 특정 폴더 목록\n",
        "REQUIRED_DIRS = ['train', 'val', 'test_1_noise']\n",
        "\n",
        "# --- 디렉토리 준비 ---\n",
        "print(f\"'{LOCAL_DATASET_PATH}'으로 필요한 데이터셋 복사를 준비합니다...\")\n",
        "if LOCAL_DATASET_PATH.exists():\n",
        "    shutil.rmtree(LOCAL_DATASET_PATH)\n",
        "    print(f\"기존 '{LOCAL_DATASET_PATH}' 폴더를 삭제했습니다.\")\n",
        "LOCAL_DATASET_PATH.mkdir(parents=True)\n",
        "\n",
        "# --- 필요한 폴더들만 복사 ---\n",
        "print(f\"다음 폴더들을 복사합니다: {REQUIRED_DIRS}\")\n",
        "for dir_name in tqdm(REQUIRED_DIRS, desc=\"폴더 복사 진행률\"):\n",
        "    src_path = DRIVE_DATASET_PATH / dir_name\n",
        "    dst_path = LOCAL_DATASET_PATH / dir_name\n",
        "    \n",
        "    if src_path.exists():\n",
        "        shutil.copytree(src_path, dst_path)\n",
        "    else:\n",
        "        print(f\"경고: 소스 폴더를 찾을 수 없습니다 - {src_path}\")\n",
        "\n",
        "print(\"데이터셋 복사 완료!\")\n",
        "\n",
        "# --- 환경 변수 설정 ---\n",
        "os.environ['DATA_ROOT'] = str(LOCAL_DATASET_PATH)\n",
        "\n"
      ]
    },
    {
      "cell_type": "code",
      "execution_count": null,
      "metadata": {},
      "outputs": [],
      "source": [
        "# 5. Denoising 모델 학습 실행\n",
        "!python code_denoising/train.py --model_type dncnn --gpu 0 --train_dataset_name \"test_1_noise\" --run_dir_name \"logs_denoising\"\n"
      ]
    },
    {
      "cell_type": "markdown",
      "metadata": {},
      "source": [
        "# Denoising 모델 학습 노트북\n",
        "\n",
        "**사전 준비:** `colab_generate_datasets.ipynb`를 실행하여 학습 데이터셋 생성을 먼저 완료해주세요.\n",
        "\n"
      ]
    },
    {
      "cell_type": "code",
      "execution_count": null,
      "metadata": {},
      "outputs": [],
      "source": [
        "# 1. Google Drive 마운트\n",
        "from google.colab import drive\n",
        "drive.mount('/content/drive')\n",
        "\n",
        "# 2. [수정 필요] 프로젝트 경로 설정\n",
        "PROJECT_PATH = \"/content/drive/MyDrive/Colab Notebooks/week5\" # 예시 경로\n",
        "import os\n",
        "os.chdir(PROJECT_PATH)\n",
        "\n",
        "# 3. 필요 라이브러리 설치\n",
        "%pip install loguru tqdm\n",
        "\n"
      ]
    },
    {
      "cell_type": "code",
      "execution_count": null,
      "metadata": {},
      "outputs": [],
      "source": [
        "# 4. (자동화) 데이터셋을 Colab 로컬 런타임으로 복사 (개선된 방식)\n",
        "import os\n",
        "import shutil\n",
        "from tqdm.notebook import tqdm\n",
        "from pathlib import Path\n",
        "\n",
        "# --- 설정 ---\n",
        "# 2번 셀에서 정의한 PROJECT_PATH 변수를 사용합니다.\n",
        "DRIVE_DATASET_PATH = Path(PROJECT_PATH) / 'dataset'\n",
        "LOCAL_DATASET_PATH = Path('/content/dataset')\n",
        "\n",
        "# --- 디렉토리 준비 ---\n",
        "print(f\"'{DRIVE_DATASET_PATH}'에서 '{LOCAL_DATASET_PATH}'으로 데이터셋 복사를 준비합니다...\")\n",
        "if LOCAL_DATASET_PATH.exists():\n",
        "    shutil.rmtree(LOCAL_DATASET_PATH)\n",
        "    print(f\"기존 '{LOCAL_DATASET_PATH}' 폴더를 삭제했습니다.\")\n",
        "LOCAL_DATASET_PATH.mkdir(parents=True)\n",
        "\n",
        "# --- 1단계: 전체 파일 개수 세기 (rglob 병목 현상 해결) ---\n",
        "print(\"전체 파일 목록을 스캔 중입니다... (Google Drive에서 이 작업은 몇 분 정도 소요될 수 있습니다)\")\n",
        "total_files = sum(len(files) for _, _, files in os.walk(DRIVE_DATASET_PATH))\n",
        "print(f\"총 {total_files}개의 파일을 복사합니다.\")\n",
        "\n",
        "# --- 2단계: tqdm 프로그레스 바와 함께 파일 복사 ---\n",
        "with tqdm(total=total_files, desc=\"파일 복사 진행률\") as pbar:\n",
        "    for root, dirs, files in os.walk(DRIVE_DATASET_PATH):\n",
        "        # 대상 디렉토리 경로 생성\n",
        "        relative_path = Path(root).relative_to(DRIVE_DATASET_PATH)\n",
        "        local_dir = LOCAL_DATASET_PATH / relative_path\n",
        "        local_dir.mkdir(parents=True, exist_ok=True)\n",
        "        \n",
        "        # 현재 디렉토리의 파일들을 복사\n",
        "        for filename in files:\n",
        "            src_path = Path(root) / filename\n",
        "            dst_path = local_dir / filename\n",
        "            shutil.copy2(src_path, dst_path)\n",
        "            pbar.update(1)\n",
        "\n",
        "print(\"데이터셋 복사 완료!\")\n",
        "\n",
        "# --- 환경 변수 설정 ---\n",
        "os.environ['DATA_ROOT'] = str(LOCAL_DATASET_PATH)\n",
        "\n"
      ]
    },
    {
      "cell_type": "code",
      "execution_count": null,
      "metadata": {},
      "outputs": [],
      "source": [
        "# 5. Denoising 모델 학습 실행\n",
        "!python code_denoising/train.py --model_type dncnn --gpu 0 --train_dataset_name \"test_1_noise\" --run_dir_name \"logs_denoising\"\n"
      ]
    },
    {
      "cell_type": "markdown",
      "metadata": {},
      "source": [
        "# Denoising 모델 학습 노트북\n",
        "\n",
        "**사전 준비:** `colab_generate_datasets.ipynb`를 실행하여 학습 데이터셋 생성을 먼저 완료해주세요.\n",
        "\n"
      ]
    },
    {
      "cell_type": "code",
      "execution_count": null,
      "metadata": {},
      "outputs": [],
      "source": [
        "# 1. Google Drive 마운트\n",
        "from google.colab import drive\n",
        "drive.mount('/content/drive')\n",
        "\n",
        "# 2. [수정 필요] 프로젝트 경로 설정\n",
        "PROJECT_PATH = \"/content/drive/MyDrive/Colab Notebooks/week5\" # 예시 경로\n",
        "import os\n",
        "os.chdir(PROJECT_PATH)\n",
        "\n",
        "# 3. 필요 라이브러리 설치\n",
        "%pip install loguru\n",
        "\n"
      ]
    },
    {
      "cell_type": "code",
      "execution_count": null,
      "metadata": {},
      "outputs": [],
      "source": [
        "# 4. (자동화) 데이터셋을 Colab 로컬 런타임으로 복사 (속도 향상)\n",
        "import os\n",
        "import shutil\n",
        "from tqdm.notebook import tqdm\n",
        "from pathlib import Path\n",
        "\n",
        "# 2번 셀에서 정의한 PROJECT_PATH 변수를 사용합니다.\n",
        "DRIVE_DATASET_PATH = Path(PROJECT_PATH) / 'dataset'\n",
        "LOCAL_DATASET_PATH = Path('/content/dataset')\n",
        "\n",
        "print(f\"'{DRIVE_DATASET_PATH}'에서 '{LOCAL_DATASET_PATH}'으로 데이터셋 복사를 시작합니다...\")\n",
        "\n",
        "# 이미 폴더가 있다면 삭제\n",
        "if LOCAL_DATASET_PATH.exists():\n",
        "    shutil.rmtree(LOCAL_DATASET_PATH)\n",
        "    print(f\"기존 '{LOCAL_DATASET_PATH}' 폴더를 삭제했습니다.\")\n",
        "\n",
        "# 복사할 모든 파일 목록 가져오기\n",
        "files_to_copy = list(DRIVE_DATASET_PATH.rglob('*'))\n",
        "print(f\"총 {len(files_to_copy)}개의 파일을 복사합니다.\")\n",
        "\n",
        "# tqdm을 사용하여 파일 복사 진행 상황 표시\n",
        "for src_path in tqdm(files_to_copy, desc=\"Copying files\"):\n",
        "    if src_path.is_file():\n",
        "        # 대상 경로 계산\n",
        "        relative_path = src_path.relative_to(DRIVE_DATASET_PATH)\n",
        "        dst_path = LOCAL_DATASET_PATH / relative_path\n",
        "        \n",
        "        # 대상 디렉토리 생성\n",
        "        dst_path.parent.mkdir(parents=True, exist_ok=True)\n",
        "        \n",
        "        # 파일 복사\n",
        "        shutil.copy2(src_path, dst_path)\n",
        "\n",
        "print(\"데이터셋 복사 완료!\")\n",
        "\n",
        "# 학습 스크립트가 로컬 데이터셋을 보도록 환경 변수 설정\n",
        "os.environ['DATA_ROOT'] = str(LOCAL_DATASET_PATH)\n",
        "\n"
      ]
    },
    {
      "cell_type": "code",
      "execution_count": null,
      "metadata": {},
      "outputs": [],
      "source": [
        "# 5. Denoising 모델 학습 실행\n",
        "!python code_denoising/train.py --model_type dncnn --gpu 0 --train_dataset_name \"test_1_noise\" --run_dir_name \"logs_denoising\"\n"
      ]
    },
    {
      "cell_type": "markdown",
      "metadata": {},
      "source": [
        "# Denoising 모델 학습 노트북\n",
        "\n",
        "**사전 준비:** `colab_generate_datasets.ipynb`를 실행하여 학습 데이터셋 생성을 먼저 완료해주세요.\n",
        "\n"
      ]
    }
  ],
  "metadata": {
    "language_info": {
      "name": "python"
    }
  },
  "nbformat": 4,
  "nbformat_minor": 2
}
