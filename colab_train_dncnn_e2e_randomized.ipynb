{
  "cells": [
    {
      "cell_type": "markdown",
      "metadata": {},
      "source": [
        "# DnCNN End-to-End 모델 학습 (무작위 증강)\n",
        "기존의 제어된(epoch-wise cycling) 증강 방식이 아닌, 매 학습 스텝마다 **무작위로** 노이즈 레벨과 컨볼루션 방향을 선택하여 증강하는 방식입니다. 이는 학습 속도를 높이고 모델의 일반화 성능을 향상시킬 수 있습니다.\n"
      ]
    },
    {
      "cell_type": "markdown",
      "metadata": {},
      "source": [
        "## 1. 환경 설정\n"
      ]
    },
    {
      "cell_type": "code",
      "execution_count": null,
      "metadata": {},
      "outputs": [],
      "source": [
        "from google.colab import drive\n",
        "import os\n",
        "import shutil\n",
        "import time\n",
        "from pathlib import Path\n",
        "\n",
        "# --- 1. 환경 설정 및 코드 동기화 ---\n",
        "print(\"--- 1. Setting up environment and syncing with Git ---\")\n",
        "drive.mount('/content/drive')\n",
        "\n",
        "# 1-1. Google Drive 내 프로젝트 폴더로 이동\n",
        "PROJECT_ROOT = '/content/drive/MyDrive/Data Scientist/Project/Week5/week5'\n",
        "os.chdir(PROJECT_ROOT)\n",
        "print(f\"Moved to project root: {os.getcwd()}\")\n",
        "\n",
        "# 1-2. GitHub에서 최신 코드로 업데이트\n",
        "print(\"\\n--- Pulling latest code from GitHub ---\")\n",
        "!git pull origin main\n",
        "print(\"--- Git pull complete ---\\n\")\n",
        "\n",
        "# 1-3. 필요 라이브러리 설치\n",
        "%pip install loguru tqdm --quiet\n",
        "print(\"Installed libraries.\")\n",
        "\n",
        "# --- 2. 데이터셋 준비 (로컬 런타임으로 복사) ---\n",
        "print(\"\\n--- 2. Preparing dataset ---\")\n",
        "DRIVE_DATASET_ROOT = Path('./dataset')\n",
        "LOCAL_DATASET_ROOT = Path('/content/dataset')\n",
        "folders_to_copy = ['train', 'val']\n",
        "\n",
        "print(f\"Starting optimized data copy to {LOCAL_DATASET_ROOT}...\")\n",
        "start_time = time.time()\n",
        "\n",
        "if LOCAL_DATASET_ROOT.exists():\n",
        "    print(\"Local dataset folder already exists. Skipping copy.\")\n",
        "else:\n",
        "    LOCAL_DATASET_ROOT.mkdir(parents=True, exist_ok=True)\n",
        "    for folder in folders_to_copy:\n",
        "        source = DRIVE_DATASET_ROOT / folder\n",
        "        destination = LOCAL_DATASET_ROOT / folder\n",
        "        if source.exists():\n",
        "            shutil.copytree(source, destination)\n",
        "        else:\n",
        "            print(f\"Source folder {source} not found, skipping.\")\n",
        "\n",
        "end_time = time.time()\n",
        "print(f\"Data preparation finished in {end_time - start_time:.2f} seconds.\")\n"
      ]
    },
    {
      "cell_type": "markdown",
      "metadata": {},
      "source": [
        "## 2. DnCNN End-to-End 모델 학습 실행 (무작위 증강)\n",
        "\n",
        "`train_controlled.py` 스크립트를 `--data_wrapper_class \"randomized\"` 인자와 함께 실행하여 무작위 데이터 증강 방식으로 End-to-End 모델 학습을 시작합니다.\n"
      ]
    },
    {
      "cell_type": "code",
      "execution_count": null,
      "metadata": {},
      "outputs": [],
      "source": [
        "!python \"code_denoising/train_controlled.py\" \\\n",
        "    --run_dir \"logs_dncnn_e2e_randomized\" \\\n",
        "    --augmentation_mode \"both\" \\\n",
        "    --data_wrapper_class \"randomized\"\n"
      ]
    }
  ],
  "metadata": {
    "language_info": {
      "name": "python"
    }
  },
  "nbformat": 4,
  "nbformat_minor": 2
}
