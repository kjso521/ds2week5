{
  "cells": [
    {
      "cell_type": "markdown",
      "metadata": {},
      "source": [
        "# 통제된 DnCNN End-to-End 모델 학습\n",
        "\n",
        "이 노트북은 **통제된 데이터 증강(에폭별 순환)**과 **자동 학습률 조정(ReduceLROnPlateau)** 기능이 적용된 `train_controlled.py` 스크립트를 사용하여 DnCNN End-to-End 모델을 학습시킵니다.\n",
        "\n",
        "- **데이터 증강:** 매 에폭마다 예측 가능한 순서로 손상(noise+conv) 조합이 적용됩니다.\n",
        "- **학습률 조정:** 검증 성능이 정체되면 학습률이 자동으로 감소하여 과적합을 방지하고 더 깊은 학습을 유도합니다.\n",
        "\n",
        "다른 모델(예: U-Net)과 공정하게 비교하기 위한 베이스라인 실험입니다.\n"
      ]
    },
    {
      "cell_type": "code",
      "execution_count": null,
      "metadata": {},
      "outputs": [],
      "source": [
        "# @title 1. 환경 설정 (Drive Mount, 경로 설정, 데이터 복사)\n",
        "import os\n",
        "import sys\n",
        "from google.colab import drive\n",
        "import shutil\n",
        "from pathlib import Path\n",
        "\n",
        "# --- 기본 설정 ---\n",
        "drive.mount('/content/drive')\n",
        "PROJECT_ROOT = \"/content/drive/MyDrive/Data Scientist/Project/Week5/week5\" # 💥 사용자 경로\n",
        "os.chdir(PROJECT_ROOT)\n",
        "sys.path.append(PROJECT_ROOT)\n",
        "\n",
        "# --- 라이브러리 설치 ---\n",
        "%pip install loguru tqdm --quiet\n",
        "\n",
        "# --- 데이터셋 로컬 런타임으로 복사 ---\n",
        "DRIVE_DATASET_ROOT = Path(PROJECT_ROOT) / \"dataset\"\n",
        "LOCAL_DATASET_ROOT = Path(\"/content/dataset\")\n",
        "if not LOCAL_DATASET_ROOT.exists():\n",
        "    print(\"Copying dataset to local runtime...\")\n",
        "    shutil.copytree(DRIVE_DATASET_ROOT, LOCAL_DATASET_ROOT, dirs_exist_ok=True)\n",
        "    print(\"Dataset copy finished.\")\n",
        "else:\n",
        "    print(\"Dataset already exists in local runtime.\")\n",
        "\n",
        "os.environ['DATA_ROOT'] = str(LOCAL_DATASET_ROOT)\n",
        "print(\"\\nEnvironment setup complete.\")\n"
      ]
    },
    {
      "cell_type": "code",
      "execution_count": null,
      "metadata": {},
      "outputs": [],
      "source": [
        "# @title 2. 통제된 DnCNN End-to-End 학습 실행\n",
        "!python ./code_denoising/train_controlled.py --run_dir_name \"logs_dncnn_controlled\" --augmentation_mode \"both\" --train_epoch 100 --train_batch 8 --lr 1e-4\n"
      ]
    }
  ],
  "metadata": {
    "language_info": {
      "name": "python"
    }
  },
  "nbformat": 4,
  "nbformat_minor": 2
}
