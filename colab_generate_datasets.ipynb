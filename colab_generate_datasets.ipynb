{
  "cells": [
    {
      "cell_type": "markdown",
      "metadata": {},
      "source": [
        "# 학습 데이터셋 생성 노트북\n",
        "\n",
        "**목표:** `train` 원본 데이터를 사용하여 `test_1`, `test_1_noise`, `test_1_conv` 세 종류의 학습 데이터셋을 생성합니다.\n",
        "\n",
        "**실행 방법:** 이 노트북은 모델 학습 전 **단 한 번만 실행**하면 됩니다.\n"
      ]
    },
    {
      "cell_type": "code",
      "execution_count": null,
      "metadata": {},
      "outputs": [],
      "source": [
        "# 1. Google Drive 마운트\n",
        "from google.colab import drive\n",
        "drive.mount('/content/drive')\n",
        "\n",
        "# 2. [수정 필요] 프로젝트 경로 설정\n",
        "PROJECT_PATH = \"/content/drive/MyDrive/Colab Notebooks/week5\" # 예시 경로\n",
        "import os\n",
        "os.chdir(PROJECT_PATH)\n",
        "\n",
        "# 3. 필요 라이브러리 설치 (tqdm은 진행률 표시를 위함)\n",
        "%pip install loguru tqdm\n"
      ]
    },
    {
      "cell_type": "code",
      "execution_count": null,
      "metadata": {},
      "outputs": [],
      "source": [
        "# 4. 학습 데이터셋 생성 (이미 존재하면 건너뛰기)\n",
        "import os\n",
        "\n",
        "# 대표적으로 test_1_noise 폴더만 확인하여 전체 데이터셋의 생성 여부를 판단\n",
        "dataset_path = \"dataset/test_1_noise\"\n",
        "\n",
        "if os.path.exists(dataset_path) and os.listdir(dataset_path):\n",
        "    print(f\"'{dataset_path}' 폴더가 이미 존재하므로 데이터셋 생성을 건너뜁니다.\")\n",
        "else:\n",
        "    print(\"학습 데이터셋을 생성합니다. 이 작업은 Colab 환경에서도 수십 분이 소요될 수 있습니다...\")\n",
        "    !python create_custom_dataset.py\n",
        "    print(\"모든 학습 데이터셋 생성이 완료되었습니다.\")\n"
      ]
    }
  ],
  "metadata": {
    "language_info": {
      "name": "python"
    }
  },
  "nbformat": 4,
  "nbformat_minor": 2
}
